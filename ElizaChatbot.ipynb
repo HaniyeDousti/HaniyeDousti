{
  "nbformat": 4,
  "nbformat_minor": 0,
  "metadata": {
    "colab": {
      "provenance": [],
      "authorship_tag": "ABX9TyOsURY5+W2y7Njogapefzgn",
      "include_colab_link": true
    },
    "kernelspec": {
      "name": "python3",
      "display_name": "Python 3"
    },
    "language_info": {
      "name": "python"
    }
  },
  "cells": [
    {
      "cell_type": "markdown",
      "metadata": {
        "id": "view-in-github",
        "colab_type": "text"
      },
      "source": [
        "<a href=\"https://colab.research.google.com/github/HaniyeDousti/HaniyeDousti/blob/main/ElizaChatbot.ipynb\" target=\"_parent\"><img src=\"https://colab.research.google.com/assets/colab-badge.svg\" alt=\"Open In Colab\"/></a>"
      ]
    },
    {
      "cell_type": "code",
      "execution_count": 1,
      "metadata": {
        "id": "ZHS4BCum5MO9"
      },
      "outputs": [],
      "source": [
        "import re\n",
        "import random"
      ]
    },
    {
      "cell_type": "code",
      "source": [
        "#Create a list of pre-defined responses similar to Eliza's by using a dictionary aka a key value pair\n",
        "\n",
        "response = {\n",
        "    \"hello\": [\"Hello, how can I help you.\"], \n",
        "    \"i feel (.*)\": [\"Why do you feel {}?\", \"How long have you been feeling {}?\"],\n",
        "    \"i am (.*)\": [\"Why do you say you're {}?\", \"How long have you been {}?\"],\n",
        "    \"i am (.*)\": [\"Why are you {}?\", \"How long have you been {}?\"],\n",
        "    \"i (.*) you\": [\"Why do you {} me?\", \"What makes you think you {} me?\"],\n",
        "    \"i (.*) myself\": [\"Why do you {} yourself?\", \"What makes you think you {} yourself?\"],\n",
        "    \"(.*) sorry (.*)\": [\"There is no need to apologize.\", \"What are you apo;ogizing for?\"],\n",
        "    \"(.*) friend (.*)\": [\"Tell me more about your friend.\", \"How do your friend make you feel?\"],\n",
        "    \"yes\": [\"You seem quite sure.\", \"Ok, but can you elaborate.\"],\n",
        "    \"no\": [\"Why not?\", \"Ok, but can you elaborate a bit?\"],\n",
        "    \" (.*) \": [\"Please tell me more.\", \"Let's change focus a bit ... tell me about your family.\", \"Can you elaborate on tht?\"],\n",
        "    \"\": [\"Why do you think that?\", \"Please tell me more.\", \"Let's change focus a bit... tell me about your family.\", \"Can you elaborate on  that?\"],\n",
        "}"
      ],
      "metadata": {
        "id": "oM03E_Vi5feX"
      },
      "execution_count": 3,
      "outputs": []
    },
    {
      "cell_type": "code",
      "source": [
        "#Define a function to match the user's input to a pre-defined response \n",
        "\n",
        "def match_response(input_text):\n",
        "  #Create a for loop to iterate over the items of the \"response\" dictionary\n",
        "  for pattern, response_list in response.items():\n",
        "    matches = re.match(pattern, input_text.lower())\n",
        "    if matches:\n",
        "      chosen_response = random.choice(response_list)\n",
        "      return chosen_response.format(*matches.groups())\n",
        "    #There is no pattern match so return ...\n",
        "      return \"I'm sorry I don't understand what you're meaning.\""
      ],
      "metadata": {
        "id": "PNHVa7168jE5"
      },
      "execution_count": 8,
      "outputs": []
    },
    {
      "cell_type": "code",
      "source": [
        "#Create a main loop tp start the chatpot\n",
        "print(\"Welcome to the Eliza Psychoterapist Chatbot\")\n",
        "while True:\n",
        "  user_input = input(\"You: \")\n",
        "  if user_input.lower() == \"bye\":\n",
        "    print(\"Eliza: Goodbye!\")\n",
        "    break\n",
        "  else:\n",
        "    print(\"Eliza: \" +match_response(user_input))"
      ],
      "metadata": {
        "colab": {
          "base_uri": "https://localhost:8080/"
        },
        "id": "uuEN_TGs-UZC",
        "outputId": "5e99a562-0f9f-4d01-ebe1-1297a140d521"
      },
      "execution_count": 9,
      "outputs": [
        {
          "output_type": "stream",
          "name": "stdout",
          "text": [
            "Welcome to the Eliza Psychoterapist Chatbot\n",
            "You: hello\n",
            "Eliza: Hello, how can I help you.\n",
            "You: I feel happy\n",
            "Eliza: Why do you feel happy?\n",
            "You: Because it warms our planet\n",
            "Eliza: Please tell me more.\n",
            "You: sssssss\n",
            "Eliza: Can you elaborate on  that?\n",
            "You: yes\n",
            "Eliza: You seem quite sure.\n",
            "You: no\n",
            "Eliza: Why not?\n",
            "You: I  love you\n",
            "Eliza: Why do you  love me?\n",
            "You: \n",
            "Eliza: Please tell me more.\n",
            "You: bye\n",
            "Eliza: Goodbye!\n"
          ]
        }
      ]
    }
  ]
}